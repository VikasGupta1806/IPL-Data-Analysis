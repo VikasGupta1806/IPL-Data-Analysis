{
  "nbformat": 4,
  "nbformat_minor": 0,
  "metadata": {
    "colab": {
      "provenance": []
    },
    "kernelspec": {
      "name": "python3",
      "display_name": "Python 3"
    },
    "language_info": {
      "name": "python"
    }
  },
  "cells": [
    {
      "cell_type": "code",
      "source": [
        "import pandas as pd\n",
        "\n",
        "# Load the dataset\n",
        "matches = pd.read_excel('/content/IPL Match Data.xlsx')"
      ],
      "metadata": {
        "id": "OwliQCaeHpRo"
      },
      "execution_count": null,
      "outputs": []
    },
    {
      "cell_type": "code",
      "source": [
        "# Rename teams\n",
        "matches['team1'] = matches['team1'].replace(\n",
        "    ['Rising Pune Supergiant', 'Rising Pune Supergiants'], 'Rising Pune Supergiants')\n",
        "matches['team2'] = matches['team2'].replace(\n",
        "    ['Rising Pune Supergiant', 'Rising Pune Supergiants'], 'Rising Pune Supergiants')\n",
        "matches['winner'] = matches['winner'].replace(\n",
        "    ['Rising Pune Supergiant', 'Rising Pune Supergiants'], 'Rising Pune Supergiants')\n",
        "\n",
        "matches['team1'] = matches['team1'].replace(\n",
        "    ['Royal Challengers Bangalore', 'Royal Challengers Bengaluru'], 'Royal Challengers Bangalore')\n",
        "matches['team2'] = matches['team2'].replace(\n",
        "    ['Royal Challengers Bangalore', 'Royal Challengers Bengaluru'], 'Royal Challengers Bangalore')\n",
        "matches['winner'] = matches['winner'].replace(\n",
        "    ['Royal Challengers Bangalore', 'Royal Challengers Bengaluru'], 'Royal Challengers Bangalore')\n",
        "\n",
        "# Standardize match types\n",
        "matches['match_type'] = matches['match_type'].replace(\n",
        "    ['Elimination Final', 'Eliminator'], 'Eliminator')\n",
        "matches['match_type'] = matches['match_type'].replace(\n",
        "    ['Semi Final', 'Qualifier 2'], 'Qualifier 2')\n",
        "\n",
        "# Standardize season column\n",
        "matches['season'] = matches['season'].replace({\n",
        "    '2007/08': '2008',\n",
        "    '2009/10': '2010',\n",
        "    '2020/21': '2020'\n",
        "})\n",
        "\n",
        "# Drop unnecessary columns\n",
        "columns_to_drop = ['umpire1', 'umpire2', 'umpire3']  # Add other columns as identified\n",
        "matches.drop(columns=columns_to_drop, inplace=True, errors='ignore')\n",
        "\n",
        "# Handle missing values\n",
        "matches.fillna('NA', inplace=True)\n",
        "\n",
        "# Save cleaned data to a CSV file\n",
        "matches.to_csv('/content/IPL_Cleaned_Match_Data.csv', index=False)"
      ],
      "metadata": {
        "id": "HohV9Z9DXaEB"
      },
      "execution_count": null,
      "outputs": []
    },
    {
      "cell_type": "code",
      "source": [
        "matches.head()"
      ],
      "metadata": {
        "id": "hJ_4MDwDX4-x",
        "collapsed": true
      },
      "execution_count": null,
      "outputs": []
    },
    {
      "cell_type": "code",
      "source": [
        "import pandas as pd\n",
        "\n",
        "# Load datasets\n",
        "deliveries = pd.read_excel('/content/IPl Deliveries Data.xlsx')\n",
        "\n",
        "# Standardize team names in both datasets\n",
        "deliveries['batting_team'] = deliveries['batting_team'].replace(['Royal Challengers Bangalore', 'Royal Challengers Bengaluru'], 'Royal Challengers Bangalore')\n",
        "deliveries['bowling_team'] = deliveries['bowling_team'].replace(['Royal Challengers Bangalore', 'Royal Challengers Bengaluru'], 'Royal Challengers Bangalore')\n",
        "\n",
        "deliveries['batting_team'] = deliveries['batting_team'].replace(\n",
        "    ['Rising Pune Supergiant', 'Rising Pune Supergiants'], 'Rising Pune Supergiants')\n",
        "deliveries['bowling_team'] = deliveries['bowling_team'].replace(\n",
        "    ['Rising Pune Supergiant', 'Rising Pune Supergiants'], 'Rising Pune Supergiants')\n",
        "\n",
        "# replace all the blanks in column extras with NA\n",
        "deliveries['extras_type'].fillna('NA', inplace=True)\n",
        "\n",
        "# Save cleaned data\n",
        "deliveries.to_excel('/content/Cleaned_IPL_Deliveries_Data.xlsx', index=False)\n"
      ],
      "metadata": {
        "colab": {
          "base_uri": "https://localhost:8080/"
        },
        "id": "dRJMmDEn-hll",
        "outputId": "a3edefea-dff6-49df-ec87-a799b09a8c5d"
      },
      "execution_count": 10,
      "outputs": [
        {
          "output_type": "stream",
          "name": "stderr",
          "text": [
            "Exception ignored in: <function ZipFile.__del__ at 0x7d38c6188940>\n",
            "Traceback (most recent call last):\n",
            "  File \"/usr/lib/python3.10/zipfile.py\", line 1833, in __del__\n",
            "    self.close()\n",
            "  File \"/usr/lib/python3.10/zipfile.py\", line 1850, in close\n",
            "    self.fp.seek(self.start_dir)\n",
            "ValueError: seek of closed file\n"
          ]
        }
      ]
    }
  ]
}